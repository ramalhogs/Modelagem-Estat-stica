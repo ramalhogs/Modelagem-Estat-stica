{
 "cells": [
  {
   "cell_type": "code",
   "execution_count": 1,
   "metadata": {},
   "outputs": [],
   "source": [
    "import pandas as pd"
   ]
  },
  {
   "cell_type": "code",
   "execution_count": 2,
   "metadata": {},
   "outputs": [],
   "source": [
    "def adjust_dataframe(dataframe):\n",
    "    dataframe_ = dataframe[(dataframe['Year'] >= 1973)\n",
    "                            &(dataframe['Geo Level'] == 'STATE')\n",
    "                            &(dataframe['Data Item'] == 'CORN, GRAIN - YIELD, MEASURED IN BU / ACRE')]\n",
    "    dataframe_ = dataframe_.drop(['Program', 'Week Ending', 'Ag District', 'Ag District Code',\n",
    "                                 'County ANSI', 'State ANSI', 'Zip Code', 'Region',\n",
    "                                 'watershed_code', 'Watershed', 'Commodity', 'Domain Category',\n",
    "                                 'CV (%)', 'County', 'Geo Level', 'Domain', 'Data Item'], axis=1)\n",
    "    dataframe_ = dataframe_[dataframe_['Period'] == 'YEAR']\n",
    "    if dataframe_['Value'].dtype == 'object':\n",
    "        dataframe_['Value'] = pd.to_numeric(dataframe_['Value'].str.replace(',', ''), errors='coerce')\n",
    "    # Filtering relevant states\n",
    "    relevant_states = ['IOWA','ILLINOIS','MINNESOTA','NEBRASKA', 'INDIANA','SOUTH DAKOTA',\n",
    "                       'OHIO', 'WISCONSIN', 'KANSAS', 'MISSOURI','NORTH DAKOTA','MICHIGAN',\n",
    "                       'KENTUCKY','TEXAS','ARKANSAS','COLORADO', 'PENNSYLVANIA','TENNESSEE']\n",
    "    dataframe_ = dataframe_[dataframe_['State'].isin(relevant_states)]\n",
    "    return dataframe_.drop(['Period'], axis=1).reset_index(drop=True)\n"
   ]
  },
  {
   "cell_type": "code",
   "execution_count": 3,
   "metadata": {},
   "outputs": [],
   "source": [
    "data_path = '../../data/'\n",
    "survey_yield = pd.read_csv(data_path + 'raw_data_USDA/survey_yield.csv')\n",
    "sy = adjust_dataframe(survey_yield)\n",
    "sy = sy.rename(columns={'Year':'ano'})\n"
   ]
  },
  {
   "cell_type": "code",
   "execution_count": 4,
   "metadata": {},
   "outputs": [],
   "source": [
    "states_abbrv = {'AR': 'ARKANSAS', 'IA': 'IOWA', 'IL': 'ILLINOIS',\n",
    "                'IN': 'INDIANA', 'KS': 'KANSAS', 'KY': 'KENTUCKY', 'MI': 'MICHIGAN',\n",
    "                'MN': 'MINNESOTA', 'MO': 'MISSOURI', 'ND': 'NORTH DAKOTA',\n",
    "                'NE': 'NEBRASKA', 'OH': 'OHIO', 'PA': 'PENNSYLVANIA',\n",
    "                'SD': 'SOUTH DAKOTA', 'TN': 'TENNESSEE', 'WI': 'WISCONSIN', 'TX': 'TEXAS', 'CO': 'COLORADO'}\n",
    "\n",
    "weathers = {}\n",
    "for abbrv in states_abbrv:\n",
    "    weathers[states_abbrv[abbrv]] = pd.read_csv(f'../../data/raw_data_NOAA/by_month_and_state/{abbrv}.csv')\n",
    "weather_and_dev = {}\n",
    "for state in states_abbrv.values():\n",
    "    state_weather = weathers[state]\n",
    "    merged = state_weather.merge(sy[sy['State'] == state], left_on='ano', right_on='ano')\n",
    "    weather_and_dev[state] = merged"
   ]
  },
  {
   "cell_type": "code",
   "execution_count": 5,
   "metadata": {},
   "outputs": [],
   "source": [
    "def pivot_weather_and_month(weather_data, dev_data):\n",
    "    for variable in ['PRCP', 'TMean', 'TMAX', 'TMIN', 'diff']:\n",
    "        for month in weather_data['mes'].unique():\n",
    "            filtered = weather_data[weather_data['mes'] == month][['ano', variable]].rename({variable: 'mes_' + str(int(month)) + '_' + variable}, axis=1)\n",
    "            dev_data = dev_data.merge(filtered, on='ano')\n",
    "    return dev_data.sort_values('ano').reset_index(drop=True)"
   ]
  },
  {
   "cell_type": "code",
   "execution_count": 6,
   "metadata": {},
   "outputs": [],
   "source": [
    "monthly_pivotted = {}\n",
    "for state in states_abbrv.values():\n",
    "    monthly_pivotted[state] = pivot_weather_and_month(weathers[state], sy[sy['State'] == state])"
   ]
  },
  {
   "cell_type": "code",
   "execution_count": 7,
   "metadata": {},
   "outputs": [],
   "source": [
    "#transforming the data to a single dataframe\n",
    "final_data = pd.concat(monthly_pivotted.values())\n",
    "final_data.to_csv('../../data/processed_data/processed_data.csv', index=False)"
   ]
  }
 ],
 "metadata": {
  "kernelspec": {
   "display_name": "Python 3",
   "language": "python",
   "name": "python3"
  },
  "language_info": {
   "codemirror_mode": {
    "name": "ipython",
    "version": 3
   },
   "file_extension": ".py",
   "mimetype": "text/x-python",
   "name": "python",
   "nbconvert_exporter": "python",
   "pygments_lexer": "ipython3",
   "version": "3.9.13"
  }
 },
 "nbformat": 4,
 "nbformat_minor": 2
}
