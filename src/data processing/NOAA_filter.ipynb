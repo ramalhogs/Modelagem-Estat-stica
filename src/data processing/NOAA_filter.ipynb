{
 "cells": [
  {
   "cell_type": "markdown",
   "metadata": {},
   "source": [
    "Inicialmente, pegamos os dados brutos e vamos fazer uma filtragem para selecionar apenas as informações dos 18 principais estados que analisaremos."
   ]
  },
  {
   "cell_type": "code",
   "execution_count": null,
   "metadata": {},
   "outputs": [],
   "source": [
    "import pandas as pd\n",
    "\n",
    "lista_estacao = []\n",
    "lista_sigla = []\n",
    "with open('codestations.txt') as f:\n",
    "    for line in f:\n",
    "        lista_estacao.append(line[:11])\n",
    "        lista_sigla.append(line[38:40])\n",
    "\n",
    "df = pd.DataFrame({'estacao': lista_estacao, 'sigla': lista_sigla})\n",
    "df_eua = df[df['estacao'].str.startswith('US')]\n",
    "\n",
    "\n",
    "#data must be downloaded from  https://www.ncei.noaa.gov/pub/data/ghcn/daily/by_year/ and saved in the folder ../NOAA data/NOAA - Dados Brutos/\n",
    "\n",
    "for i in range(2023, 2024):\n",
    "    chunk_size = 50000\n",
    "\n",
    "    chunks = pd.read_csv(f'../../data/raw_data_NOAA/new_path/{i}.csv', header=None, chunksize=chunk_size)\n",
    "\n",
    "    df_list = []\n",
    "    for chunk in chunks:\n",
    "        df_list.append(chunk)\n",
    "\n",
    "    df = pd.concat(df_list)\n",
    "    df_m = df[df[0].str.startswith('US')]\n",
    "\n",
    "    df = pd.merge(df_m, df_eua, left_on=0, right_on='estacao', how='right')\n",
    "    df.to_csv(f'../../NOAA data/NOAA - Dados Tratados/CSV - Por ano/{i}_TOP18.csv', index=False, header=False)"
   ]
  },
  {
   "cell_type": "markdown",
   "metadata": {},
   "source": [
    "Aqui, pegamos os csv's gerados por ano já filtrados com os 18 estados de interesse e separamos cada estado"
   ]
  },
  {
   "cell_type": "code",
   "execution_count": 1,
   "metadata": {},
   "outputs": [],
   "source": [
    "#dfs = {state: pd.DataFrame() for state in ['IA', 'IL', 'MN', 'NE', 'IN', 'SD', 'OH', 'WI', 'KS', 'MO', 'ND', 'MI', 'KY', 'TX', 'AR', 'CO', 'PA', 'TN']}\n",
    "\n",
    "import pandas as pd\n",
    "#ignore warnings\n",
    "import warnings\n",
    "\n",
    "warnings.filterwarnings(\"ignore\")\n",
    "dfs = {state: pd.DataFrame() for state in ['CO', 'PA', 'TN']} \n",
    "for i in range (1973, 2024): \n",
    "    df = pd.read_csv(f'../../data/raw_data_NOAA/by_year/{i}_TOP18.csv', header=None)\n",
    "    \n",
    "    for state in dfs.keys():\n",
    "        df_state = df[df[9] == state]\n",
    "\n",
    "        dfs[state] = pd.concat([dfs[state], df_state], ignore_index=True)\n",
    "\n",
    "for state, df_state in dfs.items():\n",
    "    df_state.to_csv(f'../../data/raw_data_NOAA/by_state/{state}.csv', index=False, header=False)\n"
   ]
  },
  {
   "cell_type": "code",
   "execution_count": 8,
   "metadata": {},
   "outputs": [
    {
     "data": {
      "text/plain": [
       "' \\nfiltragem final para criar os dataframes de cada estado. Temos:\\nPRCP: precipitação\\nTMAX: temperatura máxima\\nTMIN: temperatura mínima\\ndiff: diferença entre TMAX e TMIN\\nTMean: média entre TMAX e TMIN\\n\\n\\nSe quiser alterar quais estados terão dados gerados, troque a lista no começo do código. Lembre-se que é necessário ter realizado o tratamento do outro notebook antes de rodar este, \\ncaso não tenham sido gerados os arquivos CSVs de cada estado separadamente\\n'"
      ]
     },
     "execution_count": 8,
     "metadata": {},
     "output_type": "execute_result"
    }
   ],
   "source": [
    "import pandas as pd\n",
    "# ['IA', 'IL', 'MN', 'NE', 'IN', 'SD', 'OH', 'WI', 'KS', 'MO', 'ND', 'MI', 'KY', 'TX', 'AR', 'CO', 'PA', 'TN']\n",
    "#['MN', 'IN', 'IL', 'IA'] ['AR', 'CO', 'KS', 'KY', 'MN']\n",
    "siglas_estados = ['IA', 'IL', 'MN', 'NE', 'IN', 'SD', 'OH', 'WI', 'KS', 'MO', 'ND', 'MI', 'KY', 'TX', 'AR', 'CO', 'PA', 'TN']\n",
    "\n",
    "for sigla in siglas_estados:\n",
    "    df = pd.read_csv(f'../../data/raw_data_NOAA/by_state/{sigla}.csv', usecols=[0,1,2,3])\n",
    "    df.columns = ['id', 'data', 'variavel', 'valor']\n",
    "\n",
    "    df = df[df['variavel'].isin(['TMAX', 'TMIN', 'PRCP'])]\n",
    "    df['data'] = pd.to_datetime(df['data'], format='%Y%m%d')\n",
    "\n",
    "    df[\"mes\"] = df[\"data\"].dt.month\n",
    "    df[\"ano\"] = df[\"data\"].dt.year\n",
    "\n",
    "    df[\"quinzena\"] = df[\"data\"].apply(lambda x: 1 if x.day <= 15 else 2)\n",
    "    # Pivot the table to have TMAX, TMIN, and PRCP as columns first\n",
    "    df_pivot = df.pivot_table(index=['id', 'data', 'ano', 'mes', 'quinzena'], columns='variavel', values='valor', aggfunc='sum').reset_index()\n",
    " \n",
    "    # Now, calculate the difference for each row\n",
    "    df_pivot['diff'] = df_pivot['TMAX'] - df_pivot['TMIN']\n",
    "\n",
    "    df_pivot['TMean'] = (df_pivot['TMAX'] + df_pivot['TMIN']) / 2 \n",
    "    # Drop unnecessary columns for further processing\n",
    "    df_pivot = df_pivot.drop(columns=['id'])\n",
    "    \n",
    "    # Now, group by year and month to calculate the mean\n",
    "    df_media = df_pivot.groupby([\"data\"]).mean().reset_index()\n",
    "\n",
    "    df_media = df_media[df_media['mes'].isin([5,6,7,8])]\n",
    "\n",
    "    df_media = df_media.drop(columns=['quinzena'])\n",
    "\n",
    "    df_monthly = df_media.groupby(['ano', 'mes']).agg({\n",
    "        'PRCP': 'mean',\n",
    "        'TMAX': 'mean',\n",
    "        'TMIN': 'mean',\n",
    "        'diff': 'mean',\n",
    "        'TMean': 'mean',\n",
    "    }).reset_index()\n",
    "\n",
    "    df_monthly.to_csv(f'../../data/raw_data_NOAA/by_month_and_state/{sigla}.csv', index=False)\n",
    "\n",
    "\n",
    "\n",
    "\"\"\" \n",
    "filtragem final para criar os dataframes de cada estado. Temos:\n",
    "PRCP: precipitação\n",
    "TMAX: temperatura máxima\n",
    "TMIN: temperatura mínima\n",
    "diff: diferença entre TMAX e TMIN\n",
    "TMean: média entre TMAX e TMIN\n",
    "\n",
    "\n",
    "Se quiser alterar quais estados terão dados gerados, troque a lista no começo do código. Lembre-se que é necessário ter realizado o tratamento do outro notebook antes de rodar este, \n",
    "caso não tenham sido gerados os arquivos CSVs de cada estado separadamente\n",
    "\"\"\""
   ]
  }
 ],
 "metadata": {
  "kernelspec": {
   "display_name": "Python 3",
   "language": "python",
   "name": "python3"
  },
  "language_info": {
   "codemirror_mode": {
    "name": "ipython",
    "version": 3
   },
   "file_extension": ".py",
   "mimetype": "text/x-python",
   "name": "python",
   "nbconvert_exporter": "python",
   "pygments_lexer": "ipython3",
   "version": "3.9.13"
  },
  "orig_nbformat": 4
 },
 "nbformat": 4,
 "nbformat_minor": 2
}
